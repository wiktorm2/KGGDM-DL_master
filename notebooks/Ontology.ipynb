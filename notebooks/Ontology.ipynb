{
 "cells": [
  {
   "metadata": {},
   "cell_type": "code",
   "outputs": [],
   "execution_count": null,
   "source": "### Load the dataset\n",
   "id": "699dbaff202c3f85"
  },
  {
   "cell_type": "code",
   "execution_count": null,
   "id": "initial_id",
   "metadata": {
    "collapsed": true
   },
   "outputs": [],
   "source": [
    "# Install gdown for Google Drive downloads\n",
    "!pip install -q gdown\n",
    "\n",
    "import pandas as pd\n",
    "import numpy as np\n",
    "from pathlib import Path\n",
    "from PIL import Image\n",
    "import matplotlib.pyplot as plt\n",
    "import torch\n",
    "from torch.utils.data import Dataset\n",
    "import torchvision.transforms as T\n",
    "\n",
    "# ─── 1. Point to your raw folder ───────────────────────────────────────────────\n",
    "raw_dir = Path(r\"/content/drive/MyDrive/content/celebA\")\n",
    "img_dir = raw_dir / \"img_align_celeba/img_align_celeba\"\n",
    "\n",
    "# ─── 2. Locate the CSV and peek at it ──────────────────────────────────────────\n",
    "attr_csv = raw_dir / \"list_attr_celeba.csv\"   # picks up your CSV\n",
    "print(\"Using attributes file:\", attr_csv.name)\n",
    "df_attrs = pd.read_csv(attr_csv, index_col=0)\n",
    "print(df_attrs.head())"
   ]
  }
 ],
 "metadata": {
  "kernelspec": {
   "display_name": "Python 3",
   "language": "python",
   "name": "python3"
  },
  "language_info": {
   "codemirror_mode": {
    "name": "ipython",
    "version": 2
   },
   "file_extension": ".py",
   "mimetype": "text/x-python",
   "name": "python",
   "nbconvert_exporter": "python",
   "pygments_lexer": "ipython2",
   "version": "2.7.6"
  }
 },
 "nbformat": 4,
 "nbformat_minor": 5
}
